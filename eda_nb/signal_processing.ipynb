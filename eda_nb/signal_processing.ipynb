{
 "cells": [
  {
   "cell_type": "code",
   "execution_count": 1,
   "metadata": {},
   "outputs": [],
   "source": [
    "# Import \n",
    "import pandas as pd \n",
    "import numpy as np\n",
    "import mne\n",
    "import matplotlib.pyplot as plt "
   ]
  },
  {
   "cell_type": "code",
   "execution_count": 8,
   "metadata": {},
   "outputs": [
    {
     "name": "stdout",
     "output_type": "stream",
     "text": [
      "Extracting EDF parameters from c:\\Users\\PC\\Documents\\Personal Projects\\AI_Honor_track\\project\\TUe-Honors-MedAI\\dataset\\DREAM\\Zhang & Wamsley 2019\\Data\\PSG\\subject026_Morning.edf...\n",
      "EDF file detected\n",
      "Setting channel info structure...\n",
      "Creating raw.info structure...\n"
     ]
    }
   ],
   "source": [
    "# Import dataset - DREAM \n",
    "df = pd.read_csv(\"../dataset/DREAM/Datasets.csv\", index_col=0)\n",
    "rec_df = pd.read_csv(\"../dataset/DREAM/Data records.csv\", index_col=0)\n",
    "people_df = pd.read_csv(\"../dataset/DREAM/People.csv\")\n",
    "\n",
    "file = \"../dataset/DREAM/Zhang & Wamsley 2019/Data/PSG/subject026_Morning.edf\"\n",
    "data = mne.io.read_raw_edf(file)\n",
    "dream_df = data.get_data()\n",
    "\n",
    "# Metadata \n",
    "info = data.info\n",
    "channels = data.ch_names\n",
    "raw_df = pd.DataFrame(dream_df)\n",
    "raw_df.index = channels"
   ]
  },
  {
   "cell_type": "code",
   "execution_count": 11,
   "metadata": {},
   "outputs": [
    {
     "data": {
      "text/plain": [
       "Set ID                                         1\n",
       "Amendment                                      0\n",
       "Filename                  subject026_Morning.edf\n",
       "Case ID                               26_Morning\n",
       "Subject ID                                    26\n",
       "Experience                                   2.0\n",
       "Treatment group                              NaN\n",
       "Duration                                    73.0\n",
       "EEG sample rate                              400\n",
       "Number of EEG channels                        58\n",
       "Last sleep stage                             2.0\n",
       "Has EOG                                        1\n",
       "Has EMG                                        1\n",
       "Has ECG                                        0\n",
       "Proportion artifacts                         NaN\n",
       "Time of awakening                       08:52:24\n",
       "Subject age                                 18.0\n",
       "Subject sex                                    0\n",
       "Subject healthy                                1\n",
       "Has more data                                  1\n",
       "Remarks                                      NaN\n",
       "Name: 14, dtype: object"
      ]
     },
     "execution_count": 11,
     "metadata": {},
     "output_type": "execute_result"
    }
   ],
   "source": [
    "# Record info\n",
    "rec_df \\\n",
    "    .loc[rec_df.Filename == \"subject026_Morning.edf\"] \\\n",
    "    .iloc[0]"
   ]
  },
  {
   "cell_type": "markdown",
   "metadata": {},
   "source": [
    "#### 1. Multitaper spectral analysis "
   ]
  },
  {
   "cell_type": "markdown",
   "metadata": {},
   "source": [
    "Decompose the raw EEG data in DREAM dataset into spectrogram similar to the PhysioNet dataset SDB. \n",
    "1. Divide into 2s epoch - Be aware of the sampling rate\n",
    "2. Appy multitaper spectral analysis to drive spectrogram of 0.5 Hz band between 0 Hz and 100 Hz for each window of 2s (epoch)"
   ]
  },
  {
   "cell_type": "code",
   "execution_count": 29,
   "metadata": {},
   "outputs": [],
   "source": [
    "# Filter \n",
    "eeg_df = raw_df.loc[\"Fp1-REF\"].copy().values\n",
    "sample_df = eeg_df[:800] # Get first epoch of 2s "
   ]
  },
  {
   "cell_type": "code",
   "execution_count": null,
   "metadata": {},
   "outputs": [],
   "source": [
    "# "
   ]
  }
 ],
 "metadata": {
  "kernelspec": {
   "display_name": "Python 3",
   "language": "python",
   "name": "python3"
  },
  "language_info": {
   "codemirror_mode": {
    "name": "ipython",
    "version": 3
   },
   "file_extension": ".py",
   "mimetype": "text/x-python",
   "name": "python",
   "nbconvert_exporter": "python",
   "pygments_lexer": "ipython3",
   "version": "3.11.0"
  }
 },
 "nbformat": 4,
 "nbformat_minor": 2
}
