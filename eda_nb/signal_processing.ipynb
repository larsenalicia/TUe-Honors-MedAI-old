{
 "cells": [
  {
   "cell_type": "code",
   "execution_count": 1,
   "metadata": {},
   "outputs": [],
   "source": [
    "# Import \n",
    "import pandas as pd \n",
    "import numpy as np\n",
    "import mne\n",
    "import matplotlib.pyplot as plt "
   ]
  },
  {
   "cell_type": "code",
   "execution_count": 8,
   "metadata": {},
   "outputs": [
    {
     "name": "stdout",
     "output_type": "stream",
     "text": [
      "Extracting EDF parameters from c:\\Users\\PC\\Documents\\Personal Projects\\AI_Honor_track\\project\\TUe-Honors-MedAI\\dataset\\DREAM\\Zhang & Wamsley 2019\\Data\\PSG\\subject026_Morning.edf...\n",
      "EDF file detected\n",
      "Setting channel info structure...\n",
      "Creating raw.info structure...\n"
     ]
    }
   ],
   "source": [
    "# Import dataset - DREAM \n",
    "file = \"../dataset/DREAM/Zhang & Wamsley 2019/Data/PSG/subject026_Morning.edf\"\n",
    "data = mne.io.read_raw_edf(file)\n",
    "dream_df = data.get_data()\n",
    "# Metadata \n",
    "info = data.info\n",
    "channels = data.ch_names\n",
    "raw_df = pd.DataFrame(dream_df)\n",
    "raw_df.index = channels"
   ]
  }
 ],
 "metadata": {
  "kernelspec": {
   "display_name": "Python 3",
   "language": "python",
   "name": "python3"
  },
  "language_info": {
   "codemirror_mode": {
    "name": "ipython",
    "version": 3
   },
   "file_extension": ".py",
   "mimetype": "text/x-python",
   "name": "python",
   "nbconvert_exporter": "python",
   "pygments_lexer": "ipython3",
   "version": "3.11.0"
  }
 },
 "nbformat": 4,
 "nbformat_minor": 2
}
