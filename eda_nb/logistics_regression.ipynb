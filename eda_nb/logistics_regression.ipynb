{
 "cells": [
  {
   "cell_type": "markdown",
   "metadata": {},
   "source": [
    "##### I will just try out how good are these predictors. Setting is using the PhysioNet for now. Features are BWP, PCA, and PSDs. Depedent variable is the time of walking up. "
   ]
  },
  {
   "cell_type": "code",
   "execution_count": 32,
   "metadata": {},
   "outputs": [],
   "source": [
    "# Import \n",
    "import pandas as pd \n",
    "import numpy as np \n",
    "from sklearn.linear_model import LinearRegression, LogisticRegression\n",
    "\n",
    "# Handle sys PATH\n",
    "import os\n",
    "import sys\n",
    "module_path = os.path.abspath(os.path.join('..'))\n",
    "if module_path not in sys.path:\n",
    "    sys.path.append(module_path)\n",
    "\n",
    "# Internal import \n",
    "from signal_analysis.feature_extraction import *\n",
    "from signal_analysis.pipeline import * "
   ]
  },
  {
   "cell_type": "markdown",
   "metadata": {},
   "source": [
    "#### 1. For one sample"
   ]
  },
  {
   "cell_type": "code",
   "execution_count": 44,
   "metadata": {},
   "outputs": [],
   "source": [
    "# Import data\n",
    "f_df = pd.read_csv(\"../dataset/multitaper-spectra-recorded-during-gabaergic-anesthetic-unconsciousness-1.0.0/Volunteer/02_f.csv\").to_numpy()\n",
    "l_df = pd.read_csv(\"../dataset/multitaper-spectra-recorded-during-gabaergic-anesthetic-unconsciousness-1.0.0/Volunteer/02_l.csv\").to_numpy()\n",
    "sdb_df = pd.read_csv(\"../dataset/multitaper-spectra-recorded-during-gabaergic-anesthetic-unconsciousness-1.0.0/Volunteer/02_Sdb.csv\", header=None).to_numpy()\n",
    "t_df = pd.read_csv(\"../dataset/multitaper-spectra-recorded-during-gabaergic-anesthetic-unconsciousness-1.0.0/Volunteer/02_t.csv\").to_numpy()"
   ]
  },
  {
   "cell_type": "code",
   "execution_count": 21,
   "metadata": {},
   "outputs": [
    {
     "data": {
      "text/plain": [
       "((5189, 1), (99, 1), (100, 5190))"
      ]
     },
     "execution_count": 21,
     "metadata": {},
     "output_type": "execute_result"
    }
   ],
   "source": [
    "# Info\n",
    "l_df.shape, f_df.shape, sdb_df.shape"
   ]
  },
  {
   "cell_type": "code",
   "execution_count": 51,
   "metadata": {},
   "outputs": [],
   "source": [
    "# Preprocessing \n",
    "sdb_df = sdb_df[:, :-1]\n",
    "f_df = f_df.reshape(f_df.shape[0])"
   ]
  },
  {
   "cell_type": "code",
   "execution_count": 54,
   "metadata": {},
   "outputs": [
    {
     "ename": "IndexError",
     "evalue": "boolean index did not match indexed array along dimension 1; dimension is 5188 but corresponding boolean dimension is 99",
     "output_type": "error",
     "traceback": [
      "\u001b[1;31m---------------------------------------------------------------------------\u001b[0m",
      "\u001b[1;31mIndexError\u001b[0m                                Traceback (most recent call last)",
      "Cell \u001b[1;32mIn[54], line 3\u001b[0m\n\u001b[0;32m      1\u001b[0m \u001b[38;5;66;03m# BWP\u001b[39;00m\n\u001b[0;32m      2\u001b[0m BP_transform \u001b[38;5;241m=\u001b[39m BandwisePowerTransform()\n\u001b[1;32m----> 3\u001b[0m bp \u001b[38;5;241m=\u001b[39m \u001b[43mBP_transform\u001b[49m\u001b[38;5;241;43m.\u001b[39;49m\u001b[43mtransform\u001b[49m\u001b[43m(\u001b[49m\u001b[43msdb_df\u001b[49m\u001b[43m,\u001b[49m\u001b[43m \u001b[49m\u001b[43mf_df\u001b[49m\u001b[43m)\u001b[49m\n",
      "File \u001b[1;32mc:\\Users\\PC\\Documents\\Personal Projects\\AI_Honor_track\\project\\TUe-Honors-MedAI\\signal_analysis\\feature_extraction.py:113\u001b[0m, in \u001b[0;36mBandwisePowerTransform.transform\u001b[1;34m(self, psds, freqs)\u001b[0m\n\u001b[0;32m    110\u001b[0m \u001b[38;5;28;01mdef\u001b[39;00m \u001b[38;5;21mtransform\u001b[39m(\u001b[38;5;28mself\u001b[39m, psds: np\u001b[38;5;241m.\u001b[39mndarray \u001b[38;5;241m|\u001b[39m MultitaperSpectralTransform \u001b[38;5;241m|\u001b[39m FourierTransform, \n\u001b[0;32m    111\u001b[0m             freqs: Optional[np\u001b[38;5;241m.\u001b[39mndarray] \u001b[38;5;241m=\u001b[39m \u001b[38;5;28;01mNone\u001b[39;00m):\n\u001b[0;32m    112\u001b[0m     \u001b[38;5;28;01mif\u001b[39;00m \u001b[38;5;28misinstance\u001b[39m(psds, np\u001b[38;5;241m.\u001b[39mndarray):\n\u001b[1;32m--> 113\u001b[0m         \u001b[38;5;28;01mreturn\u001b[39;00m \u001b[38;5;28;43mself\u001b[39;49m\u001b[38;5;241;43m.\u001b[39;49m\u001b[43mraw_transform\u001b[49m\u001b[43m(\u001b[49m\u001b[43mpsds\u001b[49m\u001b[43m,\u001b[49m\u001b[43m \u001b[49m\u001b[43mfreqs\u001b[49m\u001b[43m)\u001b[49m\n\u001b[0;32m    114\u001b[0m         \u001b[38;5;28mprint\u001b[39m(\u001b[38;5;124m\"\u001b[39m\u001b[38;5;124msth\u001b[39m\u001b[38;5;124m\"\u001b[39m)\n\u001b[0;32m    116\u001b[0m     \u001b[38;5;28;01melif\u001b[39;00m \u001b[38;5;28misinstance\u001b[39m(psds, MultitaperSpectralTransform):\n",
      "File \u001b[1;32mc:\\Users\\PC\\Documents\\Personal Projects\\AI_Honor_track\\project\\TUe-Honors-MedAI\\signal_analysis\\feature_extraction.py:133\u001b[0m, in \u001b[0;36mBandwisePowerTransform.raw_transform\u001b[1;34m(psds, freqs)\u001b[0m\n\u001b[0;32m    128\u001b[0m \u001b[38;5;129m@staticmethod\u001b[39m\n\u001b[0;32m    129\u001b[0m \u001b[38;5;28;01mdef\u001b[39;00m \u001b[38;5;21mraw_transform\u001b[39m(psds: np\u001b[38;5;241m.\u001b[39mndarray, freqs: np\u001b[38;5;241m.\u001b[39mndarray) \u001b[38;5;241m-\u001b[39m\u001b[38;5;241m>\u001b[39m np\u001b[38;5;241m.\u001b[39mndarray:\n\u001b[0;32m    130\u001b[0m \u001b[38;5;250m    \u001b[39m\u001b[38;5;124;03m\"\"\"Compute avg estimated power in selected frequency band. There are in \u001b[39;00m\n\u001b[0;32m    131\u001b[0m \u001b[38;5;124;03m    order slow, delta, theta, beta, and gamma wave.\u001b[39;00m\n\u001b[0;32m    132\u001b[0m \u001b[38;5;124;03m    \"\"\"\u001b[39;00m\n\u001b[1;32m--> 133\u001b[0m     slow \u001b[38;5;241m=\u001b[39m \u001b[43mBandwisePowerTransform\u001b[49m\u001b[38;5;241;43m.\u001b[39;49m\u001b[43mextract_bandwise_power\u001b[49m\u001b[43m(\u001b[49m\u001b[43mpsds\u001b[49m\u001b[43m,\u001b[49m\u001b[43m \u001b[49m\u001b[43mfreqs\u001b[49m\u001b[43m,\u001b[49m\u001b[43m \u001b[49m\u001b[38;5;241;43m0\u001b[39;49m\u001b[43m,\u001b[49m\u001b[43m \u001b[49m\u001b[38;5;241;43m1\u001b[39;49m\u001b[43m)\u001b[49m\n\u001b[0;32m    134\u001b[0m     delta \u001b[38;5;241m=\u001b[39m BandwisePowerTransform\u001b[38;5;241m.\u001b[39mextract_bandwise_power(psds, freqs, \u001b[38;5;241m4\u001b[39m, \u001b[38;5;241m8\u001b[39m)\n\u001b[0;32m    135\u001b[0m     theta \u001b[38;5;241m=\u001b[39m BandwisePowerTransform\u001b[38;5;241m.\u001b[39mextract_bandwise_power(psds, freqs, \u001b[38;5;241m8\u001b[39m, \u001b[38;5;241m13\u001b[39m)\n",
      "File \u001b[1;32mc:\\Users\\PC\\Documents\\Personal Projects\\AI_Honor_track\\project\\TUe-Honors-MedAI\\signal_analysis\\feature_extraction.py:154\u001b[0m, in \u001b[0;36mBandwisePowerTransform.extract_bandwise_power\u001b[1;34m(psds, freqs, fmin, fmax)\u001b[0m\n\u001b[0;32m    152\u001b[0m \u001b[38;5;28mfilter\u001b[39m \u001b[38;5;241m=\u001b[39m (freqs \u001b[38;5;241m<\u001b[39m\u001b[38;5;241m=\u001b[39m fmax) \u001b[38;5;241m&\u001b[39m (freqs \u001b[38;5;241m>\u001b[39m\u001b[38;5;241m=\u001b[39m fmin)\n\u001b[0;32m    153\u001b[0m \u001b[38;5;28;01mif\u001b[39;00m \u001b[38;5;28msum\u001b[39m(\u001b[38;5;28mfilter\u001b[39m) \u001b[38;5;241m==\u001b[39m \u001b[38;5;241m0\u001b[39m: \u001b[38;5;28mprint\u001b[39m(\u001b[38;5;124m\"\u001b[39m\u001b[38;5;124mNot available bandwise freqs\u001b[39m\u001b[38;5;124m\"\u001b[39m) \u001b[38;5;66;03m# Add warning if missing freq band\u001b[39;00m\n\u001b[1;32m--> 154\u001b[0m \u001b[38;5;28;01mreturn\u001b[39;00m np\u001b[38;5;241m.\u001b[39maverage(\u001b[43mpsds\u001b[49m\u001b[43m[\u001b[49m\u001b[43m:\u001b[49m\u001b[43m,\u001b[49m\u001b[43m \u001b[49m\u001b[38;5;28;43mfilter\u001b[39;49m\u001b[43m]\u001b[49m, axis\u001b[38;5;241m=\u001b[39m\u001b[38;5;241m1\u001b[39m)\n",
      "\u001b[1;31mIndexError\u001b[0m: boolean index did not match indexed array along dimension 1; dimension is 5188 but corresponding boolean dimension is 99"
     ]
    }
   ],
   "source": [
    "# BWP\n",
    "BP_transform = BandwisePowerTransform()\n",
    "bp = BP_transform.transform(sdb_df, f_df)"
   ]
  }
 ],
 "metadata": {
  "kernelspec": {
   "display_name": "Python 3",
   "language": "python",
   "name": "python3"
  },
  "language_info": {
   "codemirror_mode": {
    "name": "ipython",
    "version": 3
   },
   "file_extension": ".py",
   "mimetype": "text/x-python",
   "name": "python",
   "nbconvert_exporter": "python",
   "pygments_lexer": "ipython3",
   "version": "3.11.0"
  }
 },
 "nbformat": 4,
 "nbformat_minor": 2
}
