{
  "cells": [
    {
      "cell_type": "code",
      "execution_count": 2,
      "metadata": {
        "id": "RtQaGf9xK5Gl"
      },
      "outputs": [],
      "source": [
        "import os\n",
        "#import cv2\n",
        "import glob\n",
        "import pathlib\n",
        "import PIL, PIL.Image\n",
        "import numpy as np\n",
        "import tensorflow as tf\n",
        "from tensorflow import keras\n",
        "from keras import layers\n",
        "from PIL import Image"
      ]
    },
    {
      "cell_type": "code",
      "execution_count": 3,
      "metadata": {
        "id": "FkXd94xGNvHS"
      },
      "outputs": [
        {
          "name": "stdout",
          "output_type": "stream",
          "text": [
            "current directory: /Users/alicialarsen/Documents/TUe/Honors/MedAI/replicate-BSc-Thesis\n",
            "datasets directory: /Users/alicialarsen/Documents/TUe/Honors/MedAI/replicate-BSc-Thesis/datasets/images\n"
          ]
        }
      ],
      "source": [
        "base_dir = os.getcwd()\n",
        "print(f'current directory: {base_dir}')\n",
        "\n",
        "dataset_dir = pathlib.Path(os.path.join(base_dir, 'datasets/images/'))\n",
        "print(f'datasets directory: {dataset_dir}')"
      ]
    },
    {
      "cell_type": "code",
      "execution_count": 4,
      "metadata": {},
      "outputs": [
        {
          "name": "stdout",
          "output_type": "stream",
          "text": [
            "number of total images: 50 \n",
            "\n",
            "\n"
          ]
        }
      ],
      "source": [
        "image_count = len(list(dataset_dir.glob('**/*.png')))\n",
        "print('number of total images:', image_count, '\\n\\n')"
      ]
    },
    {
      "cell_type": "code",
      "execution_count": 5,
      "metadata": {},
      "outputs": [
        {
          "name": "stdout",
          "output_type": "stream",
          "text": [
            "Found 50 files belonging to 2 classes.\n",
            "Using 40 files for training.\n"
          ]
        },
        {
          "name": "stdout",
          "output_type": "stream",
          "text": [
            "Found 50 files belonging to 2 classes.\n",
            "Using 10 files for validation.\n",
            "['a', 'b']\n"
          ]
        }
      ],
      "source": [
        "batch_size = 5\n",
        "img_height = 1108\n",
        "img_width = 1488\n",
        "\n",
        "train_ds = tf.keras.utils.image_dataset_from_directory(\n",
        "    dataset_dir,\n",
        "    validation_split=0.2,\n",
        "    subset=\"training\",\n",
        "    seed=123,\n",
        "    image_size=(img_height, img_width),\n",
        "    batch_size=batch_size)\n",
        "\n",
        "val_ds = tf.keras.utils.image_dataset_from_directory(\n",
        "  dataset_dir,\n",
        "  validation_split=0.2,\n",
        "  subset=\"validation\",\n",
        "  seed=123,\n",
        "  image_size=(img_height, img_width),\n",
        "  batch_size=batch_size)\n",
        "\n",
        "class_names = train_ds.class_names\n",
        "print(class_names)"
      ]
    },
    {
      "cell_type": "code",
      "execution_count": 6,
      "metadata": {},
      "outputs": [
        {
          "data": {
            "image/png": "[encoded data removed]",
            "text/plain": [
              "<Figure size 800x600 with 4 Axes>"
            ]
          },
          "metadata": {},
          "output_type": "display_data"
        }
      ],
      "source": [
        "import matplotlib.pyplot as plt\n",
        "\n",
        "plt.figure(figsize=(8, 6))\n",
        "for images, labels in train_ds.take(1):\n",
        "  for i in range(4):\n",
        "    ax = plt.subplot(2, 2, i + 1)\n",
        "    plt.imshow(images[i].numpy().astype(\"uint8\"))\n",
        "    plt.title(class_names[labels[i]])\n",
        "    plt.axis(\"off\")"
      ]
    },
    {
      "cell_type": "code",
      "execution_count": 7,
      "metadata": {},
      "outputs": [
        {
          "name": "stdout",
          "output_type": "stream",
          "text": [
            "(5, 1108, 1488, 3)\n",
            "(5,)\n"
          ]
        }
      ],
      "source": [
        "for image_batch, labels_batch in train_ds:\n",
        "  print(image_batch.shape)\n",
        "  print(labels_batch.shape)\n",
        "  break"
      ]
    },
    {
      "cell_type": "code",
      "execution_count": 8,
      "metadata": {},
      "outputs": [],
      "source": [
        "normalization_layer = tf.keras.layers.Rescaling(1./255)\n",
        "train_ds = train_ds.map(lambda x, y: (normalization_layer(x), y))\n",
        "val_ds = val_ds.map(lambda x, y: (normalization_layer(x), y))"
      ]
    },
    {
      "cell_type": "code",
      "execution_count": 9,
      "metadata": {},
      "outputs": [],
      "source": [
        "AUTOTUNE = tf.data.AUTOTUNE\n",
        "\n",
        "train_ds = train_ds.cache().prefetch(buffer_size=AUTOTUNE)\n",
        "val_ds = val_ds.cache().prefetch(buffer_size=AUTOTUNE)"
      ]
    },
    {
      "cell_type": "markdown",
      "metadata": {
        "id": "e938lrVNOTNM"
      },
      "source": [
        "####**CNN classification with a simple model**"
      ]
    },
    {
      "cell_type": "code",
      "execution_count": 10,
      "metadata": {
        "colab": {
          "base_uri": "https://localhost:8080/"
        },
        "id": "szCE6q72SrVq",
        "outputId": "fee6a91d-79cf-4731-a46c-a9a0eaeea392"
      },
      "outputs": [
        {
          "name": "stderr",
          "output_type": "stream",
          "text": [
            "WARNING:absl:At this time, the v2.11+ optimizer `tf.keras.optimizers.Adam` runs slowly on M1/M2 Macs, please use the legacy Keras optimizer instead, located at `tf.keras.optimizers.legacy.Adam`.\n"
          ]
        },
        {
          "name": "stdout",
          "output_type": "stream",
          "text": [
            "8/8 [==============================] - 120s 15s/step - loss: 0.6990 - accuracy: 0.4500 - val_loss: 0.6937 - val_accuracy: 0.4000\n"
          ]
        },
        {
          "data": {
            "text/plain": [
              "<keras.src.callbacks.History at 0x17f2bf5e0>"
            ]
          },
          "execution_count": 10,
          "metadata": {},
          "output_type": "execute_result"
        }
      ],
      "source": [
        "num_classes = len(class_names)\n",
        "\n",
        "simple_model = tf.keras.Sequential([\n",
        "  layers.Conv2D(32, 3, activation='relu'),\n",
        "  layers.Conv2D(32, 3, activation='relu'),\n",
        "  layers.MaxPooling2D(),\n",
        "  layers.Conv2D(32, 3, activation='relu'),\n",
        "  layers.Conv2D(32, 3, activation='relu'),\n",
        "  layers.MaxPooling2D(),\n",
        "  layers.Conv2D(64, 3, activation='relu'),\n",
        "  layers.Conv2D(64, 3, activation='relu'),\n",
        "  layers.MaxPooling2D(),\n",
        "  layers.Conv2D(128, 3, activation='relu'),\n",
        "  layers.Conv2D(128, 3, activation='relu'),\n",
        "  layers.Conv2D(128, 3, activation='relu'),\n",
        "  layers.MaxPooling2D(),\n",
        "  layers.Flatten(),\n",
        "  layers.Dense(512, activation='relu'),\n",
        "  layers.Dense(512, activation='relu'),\n",
        "  layers.Dense(num_classes, activation='softmax')\n",
        "])\n",
        "\n",
        "opt = keras.optimizers.Adam(learning_rate=0.0001)\n",
        "simple_model.compile(optimizer=opt, loss=tf.keras.losses.SparseCategoricalCrossentropy(), metrics=['accuracy'])\n",
        "\n",
        "\n",
        "simple_model.fit(\n",
        "  train_ds,\n",
        "  validation_data=val_ds,\n",
        "  epochs=1)"
      ]
    },
    {
      "cell_type": "markdown",
      "metadata": {
        "id": "Y1N4YZkMObNC"
      },
      "source": [
        "####**CNN classification with a VGG-16 model**"
      ]
    },
    {
      "cell_type": "code",
      "execution_count": 11,
      "metadata": {
        "colab": {
          "base_uri": "https://localhost:8080/"
        },
        "id": "nM9vcz_myyeA",
        "outputId": "70d686e0-40c1-4865-fefc-3551ef0b84e1"
      },
      "outputs": [
        {
          "data": {
            "text/plain": [
              "'num_classes = len(class_names)\\n\\nvgg16_model = keras.Sequential()\\nvgg16_model.add(layers.Conv2D(input_shape=(1108, 1488, 3),filters=64,kernel_size=(3,3),padding=\"same\", activation=\"relu\"))\\nvgg16_model.add(layers.Conv2D(filters=64,kernel_size=(3,3),padding=\"same\", activation=\"relu\"))\\nvgg16_model.add(layers.MaxPool2D(pool_size=(2,2),strides=(2,2)))\\nvgg16_model.add(layers.Conv2D(filters=128, kernel_size=(3,3), padding=\"same\", activation=\"relu\"))\\nvgg16_model.add(layers.Conv2D(filters=128, kernel_size=(3,3), padding=\"same\", activation=\"relu\"))\\nvgg16_model.add(layers.MaxPooling2D(pool_size=(2,2),strides=(2,2)))\\nvgg16_model.add(layers.Conv2D(filters=256, kernel_size=(3,3), padding=\"same\", activation=\"relu\"))\\nvgg16_model.add(layers.Conv2D(filters=256, kernel_size=(3,3), padding=\"same\", activation=\"relu\"))\\nvgg16_model.add(layers.Conv2D(filters=256, kernel_size=(3,3), padding=\"same\", activation=\"relu\"))\\nvgg16_model.add(layers.MaxPooling2D(pool_size=(2,2),strides=(2,2)))\\nvgg16_model.add(layers.Conv2D(filters=512, kernel_size=(3,3), padding=\"same\", activation=\"relu\"))\\nvgg16_model.add(layers.Conv2D(filters=512, kernel_size=(3,3), padding=\"same\", activation=\"relu\"))\\nvgg16_model.add(layers.Conv2D(filters=512, kernel_size=(3,3), padding=\"same\", activation=\"relu\"))\\nvgg16_model.add(layers.MaxPooling2D(pool_size=(2,2),strides=(2,2)))\\nvgg16_model.add(layers.Conv2D(filters=512, kernel_size=(3,3), padding=\"same\", activation=\"relu\"))\\nvgg16_model.add(layers.Conv2D(filters=512, kernel_size=(3,3), padding=\"same\", activation=\"relu\"))\\nvgg16_model.add(layers.Conv2D(filters=512, kernel_size=(3,3), padding=\"same\", activation=\"relu\"))\\nvgg16_model.add(layers.MaxPooling2D(pool_size=(2,2),strides=(2,2)))\\nvgg16_model.add(layers.Flatten())\\nvgg16_model.add(layers.Dense(4096,activation=\"relu\"))\\nvgg16_model.add(layers.Dense(4096,activation=\"relu\"))\\nvgg16_model.add(layers.Dense(num_classes, activation=\"softmax\"))\\nvgg16_model.summary()\\n\\nopt = keras.optimizers.Adam(learning_rate=0.0001)\\nvgg16_model.compile(optimizer=opt, loss=tf.keras.losses.SparseCategoricalCrossentropy(), metrics=[\\'accuracy\\'])\\n\\nvgg16_model.fit(train_ds, validation_data=val_ds, epochs=3)'"
            ]
          },
          "execution_count": 11,
          "metadata": {},
          "output_type": "execute_result"
        }
      ],
      "source": [
        "\"\"\"num_classes = len(class_names)\n",
        "\n",
        "vgg16_model = keras.Sequential()\n",
        "vgg16_model.add(layers.Conv2D(input_shape=(1108, 1488, 3),filters=64,kernel_size=(3,3),padding=\"same\", activation=\"relu\"))\n",
        "vgg16_model.add(layers.Conv2D(filters=64,kernel_size=(3,3),padding=\"same\", activation=\"relu\"))\n",
        "vgg16_model.add(layers.MaxPool2D(pool_size=(2,2),strides=(2,2)))\n",
        "vgg16_model.add(layers.Conv2D(filters=128, kernel_size=(3,3), padding=\"same\", activation=\"relu\"))\n",
        "vgg16_model.add(layers.Conv2D(filters=128, kernel_size=(3,3), padding=\"same\", activation=\"relu\"))\n",
        "vgg16_model.add(layers.MaxPooling2D(pool_size=(2,2),strides=(2,2)))\n",
        "vgg16_model.add(layers.Conv2D(filters=256, kernel_size=(3,3), padding=\"same\", activation=\"relu\"))\n",
        "vgg16_model.add(layers.Conv2D(filters=256, kernel_size=(3,3), padding=\"same\", activation=\"relu\"))\n",
        "vgg16_model.add(layers.Conv2D(filters=256, kernel_size=(3,3), padding=\"same\", activation=\"relu\"))\n",
        "vgg16_model.add(layers.MaxPooling2D(pool_size=(2,2),strides=(2,2)))\n",
        "vgg16_model.add(layers.Conv2D(filters=512, kernel_size=(3,3), padding=\"same\", activation=\"relu\"))\n",
        "vgg16_model.add(layers.Conv2D(filters=512, kernel_size=(3,3), padding=\"same\", activation=\"relu\"))\n",
        "vgg16_model.add(layers.Conv2D(filters=512, kernel_size=(3,3), padding=\"same\", activation=\"relu\"))\n",
        "vgg16_model.add(layers.MaxPooling2D(pool_size=(2,2),strides=(2,2)))\n",
        "vgg16_model.add(layers.Conv2D(filters=512, kernel_size=(3,3), padding=\"same\", activation=\"relu\"))\n",
        "vgg16_model.add(layers.Conv2D(filters=512, kernel_size=(3,3), padding=\"same\", activation=\"relu\"))\n",
        "vgg16_model.add(layers.Conv2D(filters=512, kernel_size=(3,3), padding=\"same\", activation=\"relu\"))\n",
        "vgg16_model.add(layers.MaxPooling2D(pool_size=(2,2),strides=(2,2)))\n",
        "vgg16_model.add(layers.Flatten())\n",
        "vgg16_model.add(layers.Dense(4096,activation=\"relu\"))\n",
        "vgg16_model.add(layers.Dense(4096,activation=\"relu\"))\n",
        "vgg16_model.add(layers.Dense(num_classes, activation=\"softmax\"))\n",
        "vgg16_model.summary()\n",
        "\n",
        "opt = keras.optimizers.Adam(learning_rate=0.0001)\n",
        "vgg16_model.compile(optimizer=opt, loss=tf.keras.losses.SparseCategoricalCrossentropy(), metrics=['accuracy'])\n",
        "\n",
        "vgg16_model.fit(train_ds, validation_data=val_ds, epochs=3)\"\"\""
      ]
    },
    {
      "cell_type": "code",
      "execution_count": 12,
      "metadata": {
        "id": "CdSSYOS84gcH"
      },
      "outputs": [
        {
          "name": "stderr",
          "output_type": "stream",
          "text": [
            "/Users/alicialarsen/anaconda3/envs/MedAI/lib/python3.10/site-packages/keras/src/engine/training.py:3103: UserWarning: You are saving your model as an HDF5 file via `model.save()`. This file format is considered legacy. We recommend using instead the native Keras format, e.g. `model.save('my_model.keras')`.\n",
            "  saving_api.save_model(\n"
          ]
        }
      ],
      "source": [
        "models_path = os.path.join(base_dir, 'models')\n",
        "#vgg16_model.save(os.path.join(models_path, 'vgg16_model.h5'))\n",
        "simple_model.save(os.path.join(models_path, 'simple_model.h5'))"
      ]
    },
    {
      "cell_type": "markdown",
      "metadata": {
        "id": "6M1MmOfj5fHI"
      },
      "source": [
        "use `model = keras.models.load_model('path/to/location')` to load the models"
      ]
    },
    {
      "cell_type": "code",
      "execution_count": 13,
      "metadata": {
        "id": "QDirj4T-M6XW"
      },
      "outputs": [
        {
          "name": "stderr",
          "output_type": "stream",
          "text": [
            "WARNING:absl:At this time, the v2.11+ optimizer `tf.keras.optimizers.Adam` runs slowly on M1/M2 Macs, please use the legacy Keras optimizer instead, located at `tf.keras.optimizers.legacy.Adam`.\n"
          ]
        }
      ],
      "source": [
        "simple_model = keras.models.load_model(os.path.join(models_path, 'simple_model.h5')) \n",
        "#vgg16_model = keras.models.load_model(os.path.join(models_path, 'vgg16_model.h5')) "
      ]
    },
    {
      "cell_type": "code",
      "execution_count": 14,
      "metadata": {
        "colab": {
          "base_uri": "https://localhost:8080/",
          "height": 1000
        },
        "id": "iMUhRbatNmG-",
        "outputId": "82ca9a67-7a5b-4158-9d5b-457afe846944"
      },
      "outputs": [
        {
          "name": "stdout",
          "output_type": "stream",
          "text": [
            "You must install pydot (`pip install pydot`) and install graphviz (see instructions at https://graphviz.gitlab.io/download/) for plot_model to work.\n"
          ]
        }
      ],
      "source": [
        "tf.keras.utils.plot_model(simple_model, dpi=75)"
      ]
    },
    {
      "cell_type": "code",
      "execution_count": 15,
      "metadata": {
        "colab": {
          "base_uri": "https://localhost:8080/",
          "height": 1000
        },
        "id": "vpumo6EwNnq-",
        "outputId": "fb1ba3f3-f894-4011-e090-5fd56b45b6a9"
      },
      "outputs": [],
      "source": [
        "# tf.keras.utils.plot_model(vgg16_model)"
      ]
    },
    {
      "cell_type": "markdown",
      "metadata": {
        "id": "SX4yFef0OeVa"
      },
      "source": [
        "**Evaluations**"
      ]
    },
    {
      "cell_type": "code",
      "execution_count": 16,
      "metadata": {
        "colab": {
          "base_uri": "https://localhost:8080/"
        },
        "id": "Mu8DSB8p5rcg",
        "outputId": "9a03ddf4-a970-44c3-8094-3cad161e1289"
      },
      "outputs": [
        {
          "name": "stdout",
          "output_type": "stream",
          "text": [
            "2/2 [==============================] - 4s 2s/step - loss: 0.6937 - accuracy: 0.4000\n",
            "simple CNN's accuracy: 40.0%\n"
          ]
        }
      ],
      "source": [
        "def evaluate(model, name='model'):\n",
        "  loss, acc = model.evaluate(val_ds, batch_size= batch_size)\n",
        "  print(f\"{name}'s accuracy: {round((acc * 100), 2)}%\")\n",
        "\n",
        "evaluate(simple_model, 'simple CNN')\n",
        "# evaluate(vgg16_model, 'VGG-16')"
      ]
    },
    {
      "cell_type": "code",
      "execution_count": 17,
      "metadata": {
        "colab": {
          "base_uri": "https://localhost:8080/"
        },
        "id": "48DPvcIuIjLa",
        "outputId": "bacc4b71-d0ec-44ae-c0a2-aba171512404"
      },
      "outputs": [
        {
          "name": "stdout",
          "output_type": "stream",
          "text": [
            "2/2 [==============================] - 3s 1s/step\n"
          ]
        }
      ],
      "source": [
        "def predict(model):\n",
        "  return np.argmax(model.predict(val_ds), axis=-1)\n",
        "\n",
        "def get_labels(dataset, batch_count=2):\n",
        "  lst = []\n",
        "  for im, label in val_ds.take(2):\n",
        "    lst.extend(label.numpy())\n",
        "  return np.array(lst)\n",
        "\n",
        "# vgg16_comparison_list = list(zip(predict(vgg16_model), get_labels(val_ds)))\n",
        "simple_comparison_list = list(zip(predict(simple_model), get_labels(val_ds)))\n",
        "#print(\"VGG-16 (predictions, true labels): \", vgg16_comparison_list)\n",
        "#print(\"simple model (predictions, true labels): \", vgg16_comparison_list)"
      ]
    }
  ],
  "metadata": {
    "accelerator": "GPU",
    "colab": {
      "collapsed_sections": [],
      "provenance": []
    },
    "kernelspec": {
      "display_name": "Python 3",
      "name": "python3"
    },
    "language_info": {
      "codemirror_mode": {
        "name": "ipython",
        "version": 3
      },
      "file_extension": ".py",
      "mimetype": "text/x-python",
      "name": "python",
      "nbconvert_exporter": "python",
      "pygments_lexer": "ipython3",
      "version": "3.10.13"
    }
  },
  "nbformat": 4,
  "nbformat_minor": 0
}
