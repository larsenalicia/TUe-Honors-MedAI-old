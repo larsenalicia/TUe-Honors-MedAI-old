{
  "cells": [
    {
      "cell_type": "markdown",
      "metadata": {},
      "source": [
        "# Data Preprocessing\n",
        "\n",
        "#### This notebook...\n",
        "* ...extracts meta-data of .edf file group\n",
        "* ...converts EEG-data (.edf) into spectrogram, and saves them.\n",
        "\n",
        "#### Future Considerations:\n",
        "* Data cleaning --> remove invalid data\n",
        "* Conversion of EEG.data? E.g. fourier transformation.\n",
        "* Make sure that EEG-data spans the same time-frame --> uniform image size and scale\n",
        "* Should we change the color-mapping?\n",
        "\n",
        "---"
      ]
    },
    {
      "cell_type": "code",
      "execution_count": null,
      "metadata": {
        "id": "7-bEPnU4ETBE"
      },
      "outputs": [],
      "source": [
        "import numpy as np\n",
        "import pandas as pd\n",
        "import os \n",
        "import matplotlib.pyplot as plt\n",
        "from matplotlib import gridspec\n",
        "from scipy import signal\n",
        "from scipy.fft import fftshift\n",
        "import math\n",
        "import mne\n",
        "from IPython import get_ipython"
      ]
    },
    {
      "cell_type": "code",
      "execution_count": null,
      "metadata": {},
      "outputs": [],
      "source": [
        "base_dir = os.getcwd()\n",
        "print(f'current directory: {base_dir}')\n",
        "\n",
        "dataset_dir = os.path.join(base_dir, 'datasets/ZhangWamsley2019/Data/PSG')\n",
        "print(f'datasets directory: {dataset_dir}')"
      ]
    },
    {
      "cell_type": "markdown",
      "metadata": {},
      "source": [
        "### Look at file meta data"
      ]
    },
    {
      "cell_type": "code",
      "execution_count": 65,
      "metadata": {},
      "outputs": [
        {
          "data": {
            "text/html": [
              "<details open>\n",
              "    <summary><strong>General</strong></summary>\n",
              "    <table class=\"table table-hover table-striped table-sm table-responsive small\">\n",
              "        <tr>\n",
              "            <th>Measurement date</th>\n",
              "            \n",
              "            <td>June 01, 2015  07:26:08 GMT</td>\n",
              "            \n",
              "        </tr>\n",
              "        <tr>\n",
              "            <th>Experimenter</th>\n",
              "            \n",
              "            <td>Unknown</td>\n",
              "            \n",
              "        </tr>\n",
              "        <tr>\n",
              "            <th>Participant</th>\n",
              "            \n",
              "            \n",
              "            <td>10</td>\n",
              "            \n",
              "            \n",
              "        </tr>\n",
              "    </table>\n",
              "    </details>\n",
              "    <details open>\n",
              "        <summary><strong>Channels</strong></summary>\n",
              "        <table class=\"table table-hover table-striped table-sm table-responsive small\">\n",
              "            <tr>\n",
              "                <th>Digitized points</th>\n",
              "                \n",
              "                <td>Not available</td>\n",
              "                \n",
              "            </tr>\n",
              "            <tr>\n",
              "                <th>Good channels</th>\n",
              "                <td>63 EEG</td>\n",
              "            </tr>\n",
              "            <tr>\n",
              "                <th>Bad channels</th>\n",
              "                <td>None</td>\n",
              "            </tr>\n",
              "            <tr>\n",
              "                <th>EOG channels</th>\n",
              "                <td>Not available</td>\n",
              "            </tr>\n",
              "            <tr>\n",
              "                <th>ECG channels</th>\n",
              "                <td>Not available</td>\n",
              "            </tr>\n",
              "        </table>\n",
              "        </details>\n",
              "        <details open>\n",
              "            <summary><strong>Data</strong></summary>\n",
              "            <table class=\"table table-hover table-striped table-sm table-responsive small\">\n",
              "                \n",
              "                <tr>\n",
              "                    <th>Sampling frequency</th>\n",
              "                    <td>400.00 Hz</td>\n",
              "                </tr>\n",
              "                \n",
              "                \n",
              "                <tr>\n",
              "                    <th>Highpass</th>\n",
              "                    <td>0.00 Hz</td>\n",
              "                </tr>\n",
              "                \n",
              "                \n",
              "                <tr>\n",
              "                    <th>Lowpass</th>\n",
              "                    <td>200.00 Hz</td>\n",
              "                </tr>\n",
              "                \n",
              "                \n",
              "                \n",
              "                \n",
              "            </table>\n",
              "            </details>"
            ],
            "text/plain": [
              "<Info | 8 non-empty values\n",
              " bads: []\n",
              " ch_names: LOC-A2, ROC-A1, EMG 1-2, Fpz-REF, Fp1-REF, Fp2-REF, Af7-REF, ...\n",
              " chs: 63 EEG\n",
              " custom_ref_applied: False\n",
              " highpass: 0.0 Hz\n",
              " lowpass: 200.0 Hz\n",
              " meas_date: 2015-06-01 07:26:08 UTC\n",
              " nchan: 63\n",
              " projs: []\n",
              " sfreq: 400.0 Hz\n",
              " subject_info: 4 items (dict)\n",
              ">"
            ]
          },
          "execution_count": 65,
          "metadata": {},
          "output_type": "execute_result"
        }
      ],
      "source": [
        "file_ex = 'subject010_Morning.edf'\n",
        "\n",
        "data = mne.io.read_raw_edf(os.path.join(dataset_dir, file_ex), verbose=False)\n",
        "raw_data = data.get_data()\n",
        "info = data.info\n",
        "channels = data.ch_names\n",
        "\n",
        "# Display meta-data\n",
        "info"
      ]
    },
    {
      "cell_type": "code",
      "execution_count": 62,
      "metadata": {},
      "outputs": [],
      "source": [
        "# As seen in the metadata, the frequency is 400.00 Hz\n",
        "freq = 400"
      ]
    },
    {
      "cell_type": "markdown",
      "metadata": {},
      "source": [
        "### Convert EEG-data (.edf) to images"
      ]
    },
    {
      "cell_type": "code",
      "execution_count": null,
      "metadata": {},
      "outputs": [],
      "source": [
        "def read_edf_data(file_path) -> np.array(): # type: ignore\n",
        "  \"\"\" Reads EEG-data in .edf format.\n",
        "  \"\"\"\n",
        "  data = mne.io.read_raw_edf(file_path, verbose=False)\n",
        "  raw_data = data.get_data()\n",
        "  return raw_data\n",
        "\n",
        "# ------------------------------------------------------------------------------------\n",
        "\n",
        "def create_spectrogram(data, fs, impath= '', save=False) -> None:\n",
        "  \"\"\" \n",
        "  Converts EEG-data into a spectrogram image.\n",
        "  :param data: numpy array of EEG-data.\n",
        "  :param fs: the frequency of the EEG-data.\n",
        "  :param impath: path where the image will be same.\n",
        "  :param save: determines if the image will be saved or just shown.\n",
        "  \"\"\"\n",
        "  plt.specgram(data, Fs=fs, NFFT=1024)\n",
        "  if save:\n",
        "    plt.axis('off')\n",
        "    plt.savefig(impath, dpi=300, pad_inches=0.0, transparent=True, bbox_inches='tight')\n",
        "  else: plt.show()\n",
        "\n",
        "# ------------------------------------------------------------------------------------\n",
        "\n",
        "def covert_all(dataset_dir, base_dir, freq):\n",
        "  \"\"\"\n",
        "  \n",
        "  \"\"\"\n",
        "  for filename in os.listdir(dataset_dir):\n",
        "    file_path = os.path.join(dataset_dir, filename)\n",
        "    data = read_edf_data(file_path)\n",
        "    create_spectrogram(data, freq, os.path.join(base_dir, f'datasets/images{filename[:-4]}'), True)"
      ]
    },
    {
      "cell_type": "code",
      "execution_count": null,
      "metadata": {},
      "outputs": [],
      "source": [
        "# Convert all images located at ´dataset_dir´\n",
        "covert_all(dataset_dir, base_dir, freq)"
      ]
    },
    {
      "cell_type": "markdown",
      "metadata": {},
      "source": [
        "Notebook by Alicia HH Larsen\n",
        "\n",
        "MedAI, Artificial Intelligence Track, TU/e Honors\n",
        "\n",
        "2024-03-21"
      ]
    }
  ],
  "metadata": {
    "colab": {
      "collapsed_sections": [],
      "provenance": []
    },
    "kernelspec": {
      "display_name": "Python 3",
      "name": "python3"
    },
    "language_info": {
      "codemirror_mode": {
        "name": "ipython",
        "version": 3
      },
      "file_extension": ".py",
      "mimetype": "text/x-python",
      "name": "python",
      "nbconvert_exporter": "python",
      "pygments_lexer": "ipython3",
      "version": "3.10.13"
    }
  },
  "nbformat": 4,
  "nbformat_minor": 0
}
