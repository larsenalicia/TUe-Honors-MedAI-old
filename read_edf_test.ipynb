{
 "cells": [
  {
   "cell_type": "code",
   "execution_count": null,
   "metadata": {},
   "outputs": [],
   "source": [
    "import mne\n",
    "import pandas as pd\n",
    "from statistics import covariance\n",
    "import numpy as np\n",
    "import matplotlib.pyplot as plt\n",
    "import seaborn as sns\n",
    "sns.set();"
   ]
  },
  {
   "cell_type": "markdown",
   "metadata": {},
   "source": [
    "## Zhang & Wamsley"
   ]
  },
  {
   "cell_type": "markdown",
   "metadata": {},
   "source": [
    "Download the data from the followung url: https://doi.org/10.6084/m9.figshare.22226692\n",
    "\n",
    "**Note**: (matching the path below, or changing the path to match your location)"
   ]
  },
  {
   "cell_type": "code",
   "execution_count": null,
   "metadata": {},
   "outputs": [],
   "source": [
    "file = \"EEG data/Zhang & Wamsley 2019/Data/PSG/subject010_Morning.edf\"\n",
    "data = mne.io.read_raw_edf(file)\n",
    "raw_data = data.get_data()\n",
    "# you can get the metadata included in the file and a list of all channels:\n",
    "info = data.info\n",
    "channels = data.ch_names"
   ]
  },
  {
   "cell_type": "code",
   "execution_count": null,
   "metadata": {},
   "outputs": [],
   "source": [
    "raw_data"
   ]
  },
  {
   "cell_type": "code",
   "execution_count": null,
   "metadata": {},
   "outputs": [],
   "source": [
    "count = 0\n",
    "count2 = 0\n",
    "for list in raw_data:\n",
    "    count += 1\n",
    "    for num in list:\n",
    "        count2 += 1\n",
    "\n",
    "count, count2"
   ]
  },
  {
   "cell_type": "code",
   "execution_count": null,
   "metadata": {},
   "outputs": [],
   "source": [
    "count3 = 0\n",
    "for num in channels:\n",
    "    count3 += 1\n",
    "count3"
   ]
  },
  {
   "cell_type": "code",
   "execution_count": null,
   "metadata": {},
   "outputs": [],
   "source": [
    "df_data = pd.DataFrame()\n",
    "for i in range(0, len(channels)):\n",
    "    df_data[channels[i]] = raw_data[i]\n",
    "\n",
    "df_data"
   ]
  },
  {
   "cell_type": "code",
   "execution_count": null,
   "metadata": {},
   "outputs": [],
   "source": [
    "df_data.columns"
   ]
  },
  {
   "cell_type": "code",
   "execution_count": null,
   "metadata": {},
   "outputs": [],
   "source": [
    "fig, ax = plt.subplots(nrows=len(df_data.columns), figsize=(15,40), sharex=True)\n",
    "for i in range(len(df_data.columns)):\n",
    "    ax[i].plot(df_data[df_data.columns[i]])\n",
    "    ax[i].yaxis.set_major_locator(plt.NullLocator())\n",
    "    ax[i].text(-0.03, 0.5, f'{df_data.columns[i]}', horizontalalignment='center', verticalalignment='center', transform=ax[i].transAxes)\n",
    "\n",
    "fig.suptitle('EEG data in vM, from Zhang & Wamsley 2019', fontsize=20, y=0.89);"
   ]
  },
  {
   "cell_type": "code",
   "execution_count": null,
   "metadata": {},
   "outputs": [],
   "source": [
    "cov_hi = 0\n",
    "chan_hi = []\n",
    "\n",
    "for i in range(0, len(channels)):\n",
    "    for j in range(0, len(channels)):\n",
    "        col1 = df_data.iloc[:,i]\n",
    "        col2 = df_data.iloc[:,j]\n",
    "        cov = covariance(col1, col2)\n",
    "        if i != j:\n",
    "            if abs(cov) > cov_hi:\n",
    "                cov_hi = cov\n",
    "                chan_hi = [i, j]"
   ]
  },
  {
   "cell_type": "code",
   "execution_count": null,
   "metadata": {},
   "outputs": [],
   "source": [
    "cov_hi, chan_hi"
   ]
  },
  {
   "cell_type": "code",
   "execution_count": null,
   "metadata": {},
   "outputs": [],
   "source": [
    "col1 = df_data.iloc[:,0]\n",
    "col2 = df_data.iloc[:,0]\n",
    "cov = covariance(col1, col2)\n",
    "cov"
   ]
  },
  {
   "cell_type": "markdown",
   "metadata": {},
   "source": [
    "## Accuracy of EEG Biomakers"
   ]
  },
  {
   "cell_type": "code",
   "execution_count": null,
   "metadata": {},
   "outputs": [],
   "source": [
    "file = \"EEG data/Accuracy of EEG Biomarkers/02^01.edf\"\n",
    "data = mne.io.read_raw_edf(file)\n",
    "raw_data = data.get_data()\n",
    "# you can get the metadata included in the file and a list of all channels:\n",
    "info = data.info\n",
    "channels = data.ch_names"
   ]
  },
  {
   "cell_type": "code",
   "execution_count": null,
   "metadata": {},
   "outputs": [],
   "source": [
    "raw_data"
   ]
  },
  {
   "cell_type": "code",
   "execution_count": null,
   "metadata": {},
   "outputs": [],
   "source": [
    "count = 0\n",
    "count2 = 0\n",
    "for list in raw_data:\n",
    "    count += 1\n",
    "    for num in list:\n",
    "        count2 += 1\n",
    "\n",
    "print(f\"Channels:     {count}\")\n",
    "print(f\"Data poits:   {count2}\")"
   ]
  },
  {
   "cell_type": "code",
   "execution_count": null,
   "metadata": {},
   "outputs": [],
   "source": [
    "df_data = pd.DataFrame()\n",
    "for i in range(0, len(channels)):\n",
    "    df_data[channels[i]] = raw_data[i]\n",
    "\n",
    "df_data"
   ]
  },
  {
   "cell_type": "code",
   "execution_count": null,
   "metadata": {},
   "outputs": [],
   "source": [
    "fig, ax = plt.subplots()\n",
    "ax.plot(df_data['EEG F7'])\n",
    "#ax.plot(df_data['LOC-A2'])"
   ]
  },
  {
   "cell_type": "markdown",
   "metadata": {},
   "source": []
  }
 ],
 "metadata": {
  "kernelspec": {
   "display_name": "JBI100-visualisation",
   "language": "python",
   "name": "python3"
  },
  "language_info": {
   "codemirror_mode": {
    "name": "ipython",
    "version": 3
   },
   "file_extension": ".py",
   "mimetype": "text/x-python",
   "name": "python",
   "nbconvert_exporter": "python",
   "pygments_lexer": "ipython3",
   "version": "3.11.6"
  },
  "orig_nbformat": 4
 },
 "nbformat": 4,
 "nbformat_minor": 2
}
