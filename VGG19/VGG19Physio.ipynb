{
  "cells": [
    {
      "cell_type": "code",
      "execution_count": 62,
      "metadata": {
        "id": "RtQaGf9xK5Gl"
      },
      "outputs": [],
      "source": [
        "import os\n",
        "#import cv2\n",
        "import glob\n",
        "import pathlib\n",
        "import PIL, PIL.Image\n",
        "import numpy as np\n",
        "import tensorflow as tf\n",
        "from tensorflow import keras\n",
        "from keras import layers\n",
        "from PIL import Image"
      ]
    },
    {
      "cell_type": "code",
      "execution_count": 63,
      "metadata": {
        "id": "FkXd94xGNvHS"
      },
      "outputs": [
        {
          "name": "stdout",
          "output_type": "stream",
          "text": [
            "current directory: c:\\Users\\20221750\\Documents\\GitHub\\TUe-Honors-MedAI\\VGG19\n",
            "datasets directory: c:\\Users\\20221750\\Documents\\GitHub\\TUe-Honors-MedAI\\VGG19\\Images\n"
          ]
        }
      ],
      "source": [
        "base_dir = os.getcwd()\n",
        "print(f'current directory: {base_dir}')\n",
        "\n",
        "dataset_dir = pathlib.Path(os.path.join(base_dir, 'Images'))\n",
        "print(f'datasets directory: {dataset_dir}')"
      ]
    },
    {
      "cell_type": "code",
      "execution_count": 64,
      "metadata": {},
      "outputs": [
        {
          "name": "stdout",
          "output_type": "stream",
          "text": [
            "number of total images: 44 \n",
            "\n",
            "\n"
          ]
        }
      ],
      "source": [
        "image_count = len(list(dataset_dir.glob('**/*.jpg')))\n",
        "print('number of total images:', image_count, '\\n\\n')"
      ]
    },
    {
      "cell_type": "code",
      "execution_count": 65,
      "metadata": {},
      "outputs": [
        {
          "name": "stdout",
          "output_type": "stream",
          "text": [
            "Found 44 files belonging to 2 classes.\n",
            "Using 36 files for training.\n",
            "Found 44 files belonging to 2 classes.\n",
            "Using 8 files for validation.\n",
            "['Consc', 'Notconsc']\n"
          ]
        }
      ],
      "source": [
        "batch_size = 5\n",
        "img_height = 500\n",
        "img_width = 500\n",
        "\n",
        "train_ds = tf.keras.utils.image_dataset_from_directory(\n",
        "    dataset_dir,\n",
        "    validation_split=0.2,\n",
        "    subset=\"training\",\n",
        "    seed=123,\n",
        "    image_size=(img_height, img_width),\n",
        "    batch_size=batch_size)\n",
        "\n",
        "val_ds = tf.keras.utils.image_dataset_from_directory(\n",
        "  dataset_dir,\n",
        "  validation_split=0.2,\n",
        "  subset=\"validation\",\n",
        "  seed=123,\n",
        "  image_size=(img_height, img_width),\n",
        "  batch_size=batch_size)\n",
        "\n",
        "class_names = train_ds.class_names\n",
        "print(class_names)"
      ]
    },
    {
      "cell_type": "code",
      "execution_count": 66,
      "metadata": {},
      "outputs": [
        {
          "data": {
            "image/png": "[encoded data removed]",
            "text/plain": [
              "<Figure size 800x600 with 4 Axes>"
            ]
          },
          "metadata": {},
          "output_type": "display_data"
        }
      ],
      "source": [
        "import matplotlib.pyplot as plt\n",
        "\n",
        "plt.figure(figsize=(8, 6))\n",
        "for images, labels in train_ds.take(1):\n",
        "  for i in range(4):\n",
        "    ax = plt.subplot(2, 2, i + 1)\n",
        "    plt.imshow(images[i].numpy().astype(\"uint8\"))\n",
        "    plt.title(class_names[labels[i]])\n",
        "    plt.axis(\"off\")"
      ]
    },
    {
      "cell_type": "code",
      "execution_count": 67,
      "metadata": {},
      "outputs": [
        {
          "name": "stdout",
          "output_type": "stream",
          "text": [
            "(5, 500, 500, 3)\n",
            "(5,)\n"
          ]
        }
      ],
      "source": [
        "for image_batch, labels_batch in train_ds:\n",
        "  print(image_batch.shape)\n",
        "  print(labels_batch.shape)\n",
        "  break"
      ]
    },
    {
      "cell_type": "code",
      "execution_count": 69,
      "metadata": {},
      "outputs": [],
      "source": [
        "AUTOTUNE = tf.data.AUTOTUNE\n",
        "\n",
        "train_ds = train_ds.cache().prefetch(buffer_size=AUTOTUNE)\n",
        "val_ds = val_ds.cache().prefetch(buffer_size=AUTOTUNE)"
      ]
    },
    {
      "cell_type": "markdown",
      "metadata": {
        "id": "e938lrVNOTNM"
      },
      "source": [
        "**VGG19 Model**"
      ]
    },
    {
      "cell_type": "code",
      "execution_count": 71,
      "metadata": {
        "colab": {
          "base_uri": "https://localhost:8080/"
        },
        "id": "nM9vcz_myyeA",
        "outputId": "70d686e0-40c1-4865-fefc-3551ef0b84e1"
      },
      "outputs": [
        {
          "name": "stdout",
          "output_type": "stream",
          "text": [
            "Model: \"sequential_4\"\n",
            "_________________________________________________________________\n",
            " Layer (type)                Output Shape              Param #   \n",
            "=================================================================\n",
            " conv2d_64 (Conv2D)          (None, 500, 500, 64)      1792      \n",
            "                                                                 \n",
            " conv2d_65 (Conv2D)          (None, 500, 500, 64)      36928     \n",
            "                                                                 \n",
            " max_pooling2d_20 (MaxPooli  (None, 250, 250, 64)      0         \n",
            " ng2D)                                                           \n",
            "                                                                 \n",
            " conv2d_66 (Conv2D)          (None, 250, 250, 128)     73856     \n",
            "                                                                 \n",
            " conv2d_67 (Conv2D)          (None, 250, 250, 128)     147584    \n",
            "                                                                 \n",
            " max_pooling2d_21 (MaxPooli  (None, 125, 125, 128)     0         \n",
            " ng2D)                                                           \n",
            "                                                                 \n",
            " conv2d_68 (Conv2D)          (None, 125, 125, 256)     295168    \n",
            "                                                                 \n",
            " conv2d_69 (Conv2D)          (None, 125, 125, 256)     590080    \n",
            "                                                                 \n",
            " conv2d_70 (Conv2D)          (None, 125, 125, 256)     590080    \n",
            "                                                                 \n",
            " conv2d_71 (Conv2D)          (None, 125, 125, 256)     590080    \n",
            "                                                                 \n",
            " max_pooling2d_22 (MaxPooli  (None, 63, 63, 256)       0         \n",
            " ng2D)                                                           \n",
            "                                                                 \n",
            " conv2d_72 (Conv2D)          (None, 63, 63, 512)       1180160   \n",
            "                                                                 \n",
            " conv2d_73 (Conv2D)          (None, 63, 63, 512)       2359808   \n",
            "                                                                 \n",
            " conv2d_74 (Conv2D)          (None, 63, 63, 512)       2359808   \n",
            "                                                                 \n",
            " conv2d_75 (Conv2D)          (None, 63, 63, 512)       2359808   \n",
            "                                                                 \n",
            " max_pooling2d_23 (MaxPooli  (None, 32, 32, 512)       0         \n",
            " ng2D)                                                           \n",
            "                                                                 \n",
            " conv2d_76 (Conv2D)          (None, 32, 32, 512)       2359808   \n",
            "                                                                 \n",
            " conv2d_77 (Conv2D)          (None, 32, 32, 512)       2359808   \n",
            "                                                                 \n",
            " conv2d_78 (Conv2D)          (None, 32, 32, 512)       2359808   \n",
            "                                                                 \n",
            " conv2d_79 (Conv2D)          (None, 32, 32, 512)       2359808   \n",
            "                                                                 \n",
            " max_pooling2d_24 (MaxPooli  (None, 16, 16, 512)       0         \n",
            " ng2D)                                                           \n",
            "                                                                 \n",
            " flatten_4 (Flatten)         (None, 131072)            0         \n",
            "                                                                 \n",
            " dense_12 (Dense)            (None, 4096)              536875008 \n",
            "                                                                 \n",
            " dropout_8 (Dropout)         (None, 4096)              0         \n",
            "                                                                 \n",
            " dense_13 (Dense)            (None, 4096)              16781312  \n",
            "                                                                 \n",
            " dropout_9 (Dropout)         (None, 4096)              0         \n",
            "                                                                 \n",
            " dense_14 (Dense)            (None, 2)                 8194      \n",
            "                                                                 \n",
            "=================================================================\n",
            "Total params: 573688898 (-2000211704.00 Byte)\n",
            "Trainable params: 573688898 (-2000211704.00 Byte)\n",
            "Non-trainable params: 0 (0.00 Byte)\n",
            "_________________________________________________________________\n"
          ]
        },
        {
          "name": "stderr",
          "output_type": "stream",
          "text": [
            "c:\\Users\\20221750\\AppData\\Local\\Programs\\Python\\Python310\\lib\\site-packages\\keras\\src\\utils\\layer_utils.py:146: RuntimeWarning: overflow encountered in scalar multiply\n",
            "  total_memory_size += weight_shape * per_param_size\n"
          ]
        },
        {
          "name": "stdout",
          "output_type": "stream",
          "text": [
            "Epoch 1/3\n",
            "8/8 [==============================] - 216s 27s/step - loss: 1.0298 - accuracy: 0.4722 - val_loss: 0.6756 - val_accuracy: 0.5000\n",
            "Epoch 2/3\n",
            "8/8 [==============================] - 231s 29s/step - loss: 0.6588 - accuracy: 0.6944 - val_loss: 0.5496 - val_accuracy: 0.8750\n",
            "Epoch 3/3\n",
            "8/8 [==============================] - 201s 25s/step - loss: 0.3341 - accuracy: 0.9167 - val_loss: 0.9283 - val_accuracy: 0.8750\n"
          ]
        },
        {
          "data": {
            "text/plain": [
              "<keras.src.callbacks.History at 0x2253b311120>"
            ]
          },
          "execution_count": 71,
          "metadata": {},
          "output_type": "execute_result"
        }
      ],
      "source": [
        "from keras.models import Sequential\n",
        "from keras.layers import Conv2D, MaxPooling2D, Flatten, Dense, Dropout, Activation\n",
        "num_classes = len(class_names)\n",
        "\n",
        "model = Sequential()\n",
        "\n",
        "# Block 1\n",
        "model.add(Conv2D(64, (3, 3), activation='relu', padding='same', input_shape=(500, 500, 3)))\n",
        "model.add(Conv2D(64, (3, 3), activation='relu', padding='same'))\n",
        "model.add(MaxPooling2D((2, 2), strides=(2, 2)))\n",
        "\n",
        "# Block 2\n",
        "model.add(Conv2D(128, (3, 3), activation='relu', padding='same'))\n",
        "model.add(Conv2D(128, (3, 3), activation='relu', padding='same'))\n",
        "model.add(MaxPooling2D((2, 2), padding='same', strides=(2, 2)))\n",
        "\n",
        "# Block 3\n",
        "model.add(Conv2D(256, (3, 3), activation='relu', padding='same'))\n",
        "model.add(Conv2D(256, (3, 3), activation='relu', padding='same'))\n",
        "model.add(Conv2D(256, (3, 3), activation='relu', padding='same'))\n",
        "model.add(Conv2D(256, (3, 3), activation='relu', padding='same'))\n",
        "model.add(MaxPooling2D((2, 2), padding='same', strides=(2, 2)))\n",
        "\n",
        "# Block 4\n",
        "model.add(Conv2D(512, (3, 3), activation='relu', padding='same'))\n",
        "model.add(Conv2D(512, (3, 3), activation='relu', padding='same'))\n",
        "model.add(Conv2D(512, (3, 3), activation='relu', padding='same'))\n",
        "model.add(Conv2D(512, (3, 3), activation='relu', padding='same'))\n",
        "model.add(MaxPooling2D((2, 2), padding='same', strides=(2, 2)))\n",
        "\n",
        "# Block 5\n",
        "model.add(Conv2D(512, (3, 3), activation='relu', padding='same'))\n",
        "model.add(Conv2D(512, (3, 3), activation='relu', padding='same'))\n",
        "model.add(Conv2D(512, (3, 3), activation='relu', padding='same'))\n",
        "model.add(Conv2D(512, (3, 3), activation='relu', padding='same'))\n",
        "model.add(MaxPooling2D((2, 2), padding='same', strides=(2, 2)))\n",
        "\n",
        "# Classification block\n",
        "model.add(Flatten())\n",
        "model.add(Dense(4096, activation='relu'))\n",
        "model.add(Dropout(0.5))\n",
        "model.add(Dense(4096, activation='relu'))\n",
        "model.add(Dropout(0.5))\n",
        "model.add(Dense(2, activation='softmax')) \n",
        "model.summary()\n",
        "\n",
        "opt = keras.optimizers.Adam(learning_rate=0.0001)\n",
        "model.compile(optimizer=opt, loss=tf.keras.losses.SparseCategoricalCrossentropy(), metrics=['accuracy'])\n",
        "\n",
        "model.fit(train_ds, validation_data=val_ds, epochs=3)"
      ]
    },
    {
      "cell_type": "markdown",
      "metadata": {
        "id": "SX4yFef0OeVa"
      },
      "source": [
        "**Evaluations**"
      ]
    },
    {
      "cell_type": "code",
      "execution_count": 78,
      "metadata": {
        "colab": {
          "base_uri": "https://localhost:8080/"
        },
        "id": "Mu8DSB8p5rcg",
        "outputId": "9a03ddf4-a970-44c3-8094-3cad161e1289"
      },
      "outputs": [
        {
          "name": "stdout",
          "output_type": "stream",
          "text": [
            "2/2 [==============================] - 3s 1s/step - loss: 0.9283 - accuracy: 0.8750\n",
            "VGG19 CNN's accuracy: 87.5%\n"
          ]
        }
      ],
      "source": [
        "def evaluate(model, name='model'):\n",
        "  loss, acc = model.evaluate(val_ds, batch_size= batch_size)\n",
        "  print(f\"{name}'s accuracy: {round((acc * 100), 2)}%\")\n",
        "\n",
        "evaluate(model, 'VGG19 CNN')"
      ]
    }
  ],
  "metadata": {
    "accelerator": "GPU",
    "colab": {
      "collapsed_sections": [],
      "provenance": []
    },
    "kernelspec": {
      "display_name": "Python 3",
      "name": "python3"
    },
    "language_info": {
      "codemirror_mode": {
        "name": "ipython",
        "version": 3
      },
      "file_extension": ".py",
      "mimetype": "text/x-python",
      "name": "python",
      "nbconvert_exporter": "python",
      "pygments_lexer": "ipython3",
      "version": "3.10.0"
    }
  },
  "nbformat": 4,
  "nbformat_minor": 0
}
