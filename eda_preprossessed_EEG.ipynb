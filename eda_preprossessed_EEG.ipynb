{
 "cells": [
  {
   "cell_type": "markdown",
   "metadata": {},
   "source": [
    "# Exploratory Data Analysis \n",
    "Using the following data set [dataset](https://physionet.org/content/eeg-power-anesthesia/1.0.0/).\n",
    "\n",
    "This is a starting point to do further EDA."
   ]
  },
  {
   "cell_type": "code",
   "execution_count": null,
   "metadata": {},
   "outputs": [],
   "source": [
    "import pandas as pd\n",
    "import seaborn as sns\n",
    "import matplotlib.pyplot as plt\n",
    "import regex as re\n",
    "sns.set()"
   ]
  },
  {
   "cell_type": "code",
   "execution_count": null,
   "metadata": {},
   "outputs": [],
   "source": [
    "df_data_54_EEGquality = pd.read_csv('../EEG data/multitaper-spectra-recorded-during-gabaergic-anesthetic-unconsciousness-1.0.0/OR/54_EEGquality.csv')\n",
    "df_data_54_f = pd.read_csv('../EEG data/multitaper-spectra-recorded-during-gabaergic-anesthetic-unconsciousness-1.0.0/OR/54_f.csv')\n",
    "df_data_54_l = pd.read_csv('../EEG data/multitaper-spectra-recorded-during-gabaergic-anesthetic-unconsciousness-1.0.0/OR/54_l.csv')\n",
    "df_data_54_Sdb = pd.read_csv('../EEG data/multitaper-spectra-recorded-during-gabaergic-anesthetic-unconsciousness-1.0.0/OR/54_Sdb.csv')\n",
    "df_data_54_t = pd.read_csv('../EEG data/multitaper-spectra-recorded-during-gabaergic-anesthetic-unconsciousness-1.0.0/OR/54_t.csv')\n",
    "\n",
    "df_data = pd.concat([df_data_54_t, df_data_54_f, df_data_54_l, df_data_54_EEGquality], axis=1)\n",
    "df_data.columns = ['time', 'frequency', 'state', 'EEG_quality']"
   ]
  },
  {
   "cell_type": "markdown",
   "metadata": {},
   "source": [
    "For patient 54 the following are the lengths of the dataframes:\n",
    "* EEGquality: 2639\n",
    "* Frequency: 99 (100 different frequency bins)\n",
    "* State: 3809\n",
    "* Sdb: 99 (2640 columns)\n",
    "* Time: 2639\n",
    "\n",
    "From the above, we see:\n",
    "* EEGquality can be mapped to time.\n",
    "* The Sdb columns can be mapped to time. The columns seem to coinside with the frequency bins\n",
    "\n",
    "3809/2 = 1904\n",
    "\n",
    "Questions:\n",
    "* Why is \"State\" not matching any other format"
   ]
  },
  {
   "cell_type": "markdown",
   "metadata": {},
   "source": [
    "## Preprocessing\n",
    "\n",
    "We see that Frequency and Sdb are missing one row. It is observed that this missing row has become the column values. Therefore, this requires preprocessing."
   ]
  },
  {
   "cell_type": "code",
   "execution_count": null,
   "metadata": {},
   "outputs": [],
   "source": [
    "def column_offset(df, column_name):\n",
    "    df_pp = df.copy()                           # copying the original frame\n",
    "    extra_row = df_pp.columns                   # defining the row\n",
    "    extra_row_float = []\n",
    "    match = '[-]*\\d+.\\d+e[+|-]\\d*'\n",
    "\n",
    "    for row in extra_row:\n",
    "        row_clean = re.findall(match, row)[0]\n",
    "        extra_row_float.append(float(row_clean))\n",
    "\n",
    "    df_pp.loc[-1] = extra_row_float             # adding a row\n",
    "    df_pp.index = df_pp.index + 1               # shifting index\n",
    "    df_pp = df_pp.sort_index()                  # sorting by index\n",
    "    df_pp.columns = column_name                 # changing the column name\n",
    "    return df_pp\n"
   ]
  },
  {
   "cell_type": "code",
   "execution_count": null,
   "metadata": {},
   "outputs": [],
   "source": [
    "df_data_54_f_pp = column_offset(df_data_54_f, ['frequency'])\n",
    "df_data_54_t_pp = column_offset(df_data_54_t, ['time'])\n",
    "df_data_54_Sdb_pp = column_offset(df_data_54_Sdb, [x for x in range(len(df_data_54_Sdb.columns))]).T\n",
    "df_data_54_Sdb_pp.head()"
   ]
  },
  {
   "cell_type": "code",
   "execution_count": null,
   "metadata": {},
   "outputs": [],
   "source": [
    "ax = sns.lineplot(x=df_data_54_Sdb_pp.index, y=df_data_54_Sdb_pp[3])\n",
    "ax.set_ylim(-10,40)\n",
    "ax.set_ylabel(' [Db]')\n",
    "ax.set_xlabel('Time [2 s]')"
   ]
  },
  {
   "cell_type": "code",
   "execution_count": null,
   "metadata": {},
   "outputs": [],
   "source": [
    "ax = sns.histplot(data=df_data_54_Sdb_pp[0])\n",
    "ax.set_xlim(-10,50)\n",
    "ax.set_xlabel('Frequency')"
   ]
  }
 ],
 "metadata": {
  "kernelspec": {
   "display_name": "MedAI",
   "language": "python",
   "name": "python3"
  },
  "language_info": {
   "codemirror_mode": {
    "name": "ipython",
    "version": 3
   },
   "file_extension": ".py",
   "mimetype": "text/x-python",
   "name": "python",
   "nbconvert_exporter": "python",
   "pygments_lexer": "ipython3",
   "version": "3.10.13"
  },
  "orig_nbformat": 4
 },
 "nbformat": 4,
 "nbformat_minor": 2
}
